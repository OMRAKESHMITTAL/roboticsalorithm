{
  "nbformat": 4,
  "nbformat_minor": 0,
  "metadata": {
    "colab": {
      "provenance": [],
      "authorship_tag": "ABX9TyMS43/poiBhi29MotVyYx9q",
      "include_colab_link": true
    },
    "kernelspec": {
      "name": "python3",
      "display_name": "Python 3"
    },
    "language_info": {
      "name": "python"
    }
  },
  "cells": [
    {
      "cell_type": "markdown",
      "metadata": {
        "id": "view-in-github",
        "colab_type": "text"
      },
      "source": [
        "<a href=\"https://colab.research.google.com/github/OMRAKESHMITTAL/roboticsalorithm/blob/main/experiment_3_robotics_linear_search.ipynb\" target=\"_parent\"><img src=\"https://colab.research.google.com/assets/colab-badge.svg\" alt=\"Open In Colab\"/></a>"
      ]
    },
    {
      "cell_type": "code",
      "execution_count": null,
      "metadata": {
        "colab": {
          "base_uri": "https://localhost:8080/"
        },
        "id": "ybNI5MxIPFLh",
        "outputId": "90253263-4917-42d2-a0dd-1a9081ac1ea9"
      },
      "outputs": [
        {
          "output_type": "stream",
          "name": "stdout",
          "text": [
            "Element 42 found at index 4.\n"
          ]
        }
      ],
      "source": [
        "def linear_search(arr, target):\n",
        "    for i in range(len(arr)):\n",
        "        if arr[i] == target:\n",
        "            return i\n",
        "    return -1\n",
        "\n",
        "# Example usage:\n",
        "my_list = [10, 25, 2, 7, 42, 8, 15]\n",
        "target_element = 42\n",
        "\n",
        "result = linear_search(my_list, target_element)\n",
        "\n",
        "if result != -1:\n",
        "    print(f\"Element {target_element} found at index {result}.\")\n",
        "else:\n",
        "    print(f\"Element {target_element} not found in the list.\")\n"
      ]
    }
  ]
}