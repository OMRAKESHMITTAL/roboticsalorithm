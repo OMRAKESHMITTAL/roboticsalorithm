{
  "nbformat": 4,
  "nbformat_minor": 0,
  "metadata": {
    "colab": {
      "provenance": [],
      "authorship_tag": "ABX9TyOkY5ZtPFAecCtCzRDDmOTQ",
      "include_colab_link": true
    },
    "kernelspec": {
      "name": "python3",
      "display_name": "Python 3"
    },
    "language_info": {
      "name": "python"
    }
  },
  "cells": [
    {
      "cell_type": "markdown",
      "metadata": {
        "id": "view-in-github",
        "colab_type": "text"
      },
      "source": [
        "<a href=\"https://colab.research.google.com/github/OMRAKESHMITTAL/roboticsalorithm/blob/main/experiment_2_robotics_N_queen_problem.ipynb\" target=\"_parent\"><img src=\"https://colab.research.google.com/assets/colab-badge.svg\" alt=\"Open In Colab\"/></a>"
      ]
    },
    {
      "cell_type": "code",
      "execution_count": 1,
      "metadata": {
        "id": "gk_-Ak1OIJJq",
        "colab": {
          "base_uri": "https://localhost:8080/"
        },
        "outputId": "8593f3c9-8f90-4d42-eadf-e4e04b6c947c"
      },
      "outputs": [
        {
          "output_type": "stream",
          "name": "stdout",
          "text": [
            "[[1, 0, 0, 0, 0, 0, 0, 0], [0, 0, 0, 0, 0, 0, 1, 0], [0, 0, 0, 0, 1, 0, 0, 0], [0, 0, 0, 0, 0, 0, 0, 1], [0, 1, 0, 0, 0, 0, 0, 0], [0, 0, 0, 1, 0, 0, 0, 0], [0, 0, 0, 0, 0, 1, 0, 0], [0, 0, 1, 0, 0, 0, 0, 0]]\n"
          ]
        }
      ],
      "source": [
        "N = 8 # (size of the chessboard)\n",
        "\n",
        "def solveNQueens(board, col):\n",
        "\tif col == N:\n",
        "\t\tprint(board)\n",
        "\t\treturn True\n",
        "\tfor i in range(N):\n",
        "\t\tif isSafe(board, i, col):\n",
        "\t\t\tboard[i][col] = 1\n",
        "\t\t\tif solveNQueens(board, col + 1):\n",
        "\t\t\t\treturn True\n",
        "\t\t\tboard[i][col] = 0\n",
        "\treturn False\n",
        "\n",
        "def isSafe(board, row, col):\n",
        "\tfor x in range(col):\n",
        "\t\tif board[row][x] == 1:\n",
        "\t\t\treturn False\n",
        "\tfor x, y in zip(range(row, -1, -1), range(col, -1, -1)):\n",
        "\t\tif board[x][y] == 1:\n",
        "\t\t\treturn False\n",
        "\tfor x, y in zip(range(row, N, 1), range(col, -1, -1)):\n",
        "\t\tif board[x][y] == 1:\n",
        "\t\t\treturn False\n",
        "\treturn True\n",
        "\n",
        "board = [[0 for x in range(N)] for y in range(N)]\n",
        "if not solveNQueens(board, 0):\n",
        "\tprint(\"No solution found\")\n"
      ]
    }
  ]
}